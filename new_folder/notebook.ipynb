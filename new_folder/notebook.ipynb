{
 "cells": [
  {
   "cell_type": "markdown",
   "id": "39724b01-e27d-4b9f-b506-8767841e78a7",
   "metadata": {},
   "source": [
    "![img](img.jpg)\n"
   ]
  },
  {
   "cell_type": "markdown",
   "id": "2d915951-4dbd-49ac-bc0d-8ae3df53f586",
   "metadata": {},
   "source": [
    "You are a junior developer working in a small start-up. Your managers have asked you to develop a new account registration system for a mobile app. The system must validate user input on the sign-up form before creating an account. \n",
    "\n",
    "The previous junior developer wrote some helper functions that validate the name, email, and password. Use these functions to register users, store their data, and implement some error handling! These have been imported into the workspace for you. They will be a great help to you when registering the user, but first you have to understand what the function does! Inspect the docstrings of each of the helper functions: `validate_name`, `validate_email` and `validate_password`."
   ]
  },
  {
   "cell_type": "code",
   "execution_count": 26,
   "id": "89e2bca9-7ff6-4259-b33a-a85607997083",
   "metadata": {
    "executionCancelledAt": null,
    "executionTime": 55,
    "lastExecutedAt": 1740203557199,
    "lastExecutedByKernel": "404ef90f-9688-4b5e-ad60-e49b1e538893",
    "lastScheduledRunId": null,
    "lastSuccessfullyExecutedCode": "# Re-run this cell and examine the docstring of each function\nfrom python_functions import validate_name, validate_email, validate_password, top_level_domains\n\nprint(\"validate_name\\n\")\nprint(validate_name.__doc__)\nprint(\"--------------------\\n\")\nhelp(validate_name)\nprint(\"validate_email\\n\")\nprint(validate_email.__doc__) \nprint(\"--------------------\\n\")\n\nprint(\"validate_password\\n\")\nprint(validate_password.__doc__)\n\n# The top level domains variable is used in validate_email to approve only certain email domains\nprint(top_level_domains)",
    "outputsMetadata": {
     "0": {
      "height": 501,
      "type": "stream"
     }
    }
   },
   "outputs": [
    {
     "name": "stdout",
     "output_type": "stream",
     "text": [
      "validate_name\n",
      "\n",
      " Checks that the name is greater than two characters and is a string data type.\n",
      "\n",
      " Args:\n",
      "    name (str): The inputted name from the user.\n",
      "\n",
      " Returns:\n",
      "    bool: True if the name passes the check, False otherwise.\n",
      "    \n",
      "--------------------\n",
      "\n",
      "Help on function validate_name in module python_functions:\n",
      "\n",
      "validate_name(name)\n",
      "    Checks that the name is greater than two characters and is a string data type.\n",
      "    \n",
      "    Args:\n",
      "       name (str): The inputted name from the user.\n",
      "    \n",
      "    Returns:\n",
      "       bool: True if the name passes the check, False otherwise.\n",
      "\n",
      "validate_email\n",
      "\n",
      " Checks that the email address is in a valid format, has a username greater than 1 character, an '@' symbol, and an allowed domain that is in the `top_level_domains` variable.\n",
      "\n",
      "  Args:\n",
      "    email (str): The inputted email from the user.\n",
      "\n",
      "  Returns:\n",
      "    bool: True if the email passes the checks, False otherwise.\n",
      "    \n",
      "--------------------\n",
      "\n",
      "validate_password\n",
      "\n",
      " Checks that the password is strong enough. It should include a capital letter, a number between 0-9 and be greater than 8 characters.\n",
      "\n",
      "  Args:\n",
      "    password (str): The inputted password from the user.\n",
      "\n",
      "  Returns:\n",
      "    bool: True if the password passes the checks, False otherwise.\n",
      "    \n",
      "['.org', '.net', '.edu', '.ac', '.uk', '.com']\n"
     ]
    }
   ],
   "source": [
    "# Re-run this cell and examine the docstring of each function\n",
    "from python_functions import validate_name, validate_email, validate_password, top_level_domains\n",
    "\n",
    "print(\"validate_name\\n\")\n",
    "print(validate_name.__doc__)\n",
    "print(\"--------------------\\n\")\n",
    "help(validate_name)\n",
    "print(\"validate_email\\n\")\n",
    "print(validate_email.__doc__) \n",
    "print(\"--------------------\\n\")\n",
    "\n",
    "print(\"validate_password\\n\")\n",
    "print(validate_password.__doc__)\n",
    "\n",
    "# The top level domains variable is used in validate_email to approve only certain email domains\n",
    "print(top_level_domains)"
   ]
  },
  {
   "cell_type": "code",
   "execution_count": 27,
   "id": "05f8c17e-84b8-420c-84f1-af7015efbc8e",
   "metadata": {
    "executionCancelledAt": null,
    "executionTime": 47,
    "lastExecutedAt": 1740203557247,
    "lastExecutedByKernel": "404ef90f-9688-4b5e-ad60-e49b1e538893",
    "lastScheduledRunId": null,
    "lastSuccessfullyExecutedCode": "# Start coding here\n# Use as many cells as you need\ndef validate_user(name,email,password):\n    if validate_name(name) and validate_email(email) and validate_password(password):\n        return True\n    else:\n        raise ValueError(\"Validation failed\")\n\ndef register_user(name,email,password):\n    try:\n        if validate_user(name,email,password):\n            return {name:name,email:email,password:password}\n        \n    except:\n        return False"
   },
   "outputs": [],
   "source": [
    "# Start coding here\n",
    "# Use as many cells as you need\n",
    "def validate_user(name,email,password):\n",
    "    if validate_name(name) and validate_email(email) and validate_password(password):\n",
    "        return True\n",
    "    else:\n",
    "        raise ValueError(\"Validation failed\")\n",
    "\n",
    "def register_user(name,email,password):\n",
    "    try:\n",
    "        if validate_user(name,email,password):\n",
    "            return {name:name,email:email,password:password}\n",
    "        \n",
    "    except:\n",
    "        return False"
   ]
  }
 ],
 "metadata": {
  "editor": "DataCamp Workspace",
  "kernelspec": {
   "display_name": "Python 3 (ipykernel)",
   "language": "python",
   "name": "python3"
  },
  "language_info": {
   "codemirror_mode": {
    "name": "ipython",
    "version": 3
   },
   "file_extension": ".py",
   "mimetype": "text/x-python",
   "name": "python",
   "nbconvert_exporter": "python",
   "pygments_lexer": "ipython3",
   "version": "3.12.4"
  }
 },
 "nbformat": 4,
 "nbformat_minor": 5
}
